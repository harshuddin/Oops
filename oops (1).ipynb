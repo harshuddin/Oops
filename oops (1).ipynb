{
  "nbformat": 4,
  "nbformat_minor": 0,
  "metadata": {
    "colab": {
      "provenance": []
    },
    "kernelspec": {
      "name": "python3",
      "display_name": "Python 3"
    },
    "language_info": {
      "name": "python"
    }
  },
  "cells": [
    {
      "cell_type": "markdown",
      "source": [
        "# Python OOPs Questions\n",
        "\n",
        "Q1. What is Object-Oriented Programming (OOP)?\n",
        "\n",
        "Answer> Object-oriented programming (OOP) is a programming style that organizes software around objects, rather than functions and logic. Objects are units that contain data and code, and are the building blocks of computer programs.  \n",
        "\n",
        "Q2.What is a class in OOP?\n",
        "\n",
        "Answer> In Object-Oriented Programming (OOP), a class is a blueprint or template that defines the properties and behavior of an object. It's a fundamental concept in OOP that enables developers to create objects that share common characteristics and actions.\n",
        "In this example, the Person class defines properties (name and age) and a method (displayInfo()). The person object is created from the Person class and demonstrates the class's properties and behavior.\n",
        "\n",
        "Q3. What is an object in OOP?\n",
        "\n",
        "Answer>In Object-Oriented Programming (OOP), an object is an instance of a class, which represents a real-world entity or concept. An object has its own set of attributes (data) and methods (functions) that define its characteristics and behavior.\n",
        "\n",
        "Q4. What is the difference between Abstraction and Encapsulation?\n",
        "Answer> difference between Abstraction and Encapsulation\n",
        "\n",
        "1. Abstraction = Abstraction is the process of exposing only the necessary information about an object or system while hiding its internal details. It involves defining an interface or a contract that specifies how to interact with the object or system without revealing its implementation details.\n",
        "\n",
        "2. Encapsulation = Encapsulation is the process of bundling data and methods that operate on that data within a single unit, such as a class or object. It involves hiding the data and methods from the outside world and only exposing a public interface through which other objects can interact with it.\n",
        "\n",
        "Q5. What are dunder methods in Python?\n",
        "Answer> In Python, \"dunder\" methods, short for \"double underscore\" methods, are special methods that are surrounded by double underscores (__) on either side of the method name. These methods are also known as \"magic methods\" or \"special methods.\"\n",
        "\n",
        "Purpose of Dunder Methods:\n",
        "Dunder methods are used to emulate the behavior of built-in types in Python. They allow developers to create custom classes that can interact with built-in types and other custom classes in a seamless way.\n",
        "\n",
        "Q6. Explain the concept of inheritance in OOP.\n",
        "Answer> Inheritance is a fundamental concept in Object-Oriented Programming (OOP) that allows one class to inherit the properties and behavior of another class. The class that is being inherited from is called the parent or superclass, while the class that is doing the inheriting is called the child or subclass\n",
        "Example of Inheritance:\n",
        "\n",
        "# Parent class (Vehicle)\n",
        "class Vehicle:\n",
        "    def __init__(self, brand, model):\n",
        "        self.brand = brand\n",
        "        self.model = model\n",
        "\n",
        "    def honk(self):\n",
        "        print(\"Honk honk!\")\n",
        "\n",
        "Q7. What is polymorphism in OOP?\n",
        "Answer> In Object-Oriented Programming (OOP), polymorphism is the ability of an object to take on multiple forms, depending on the context in which it's used. This means that an object can be treated as if it were of a different class or type, even if it's not actually of that class.\n",
        "\n",
        "Types of Polymorphism:\n",
        "\n",
        "1. Method Overloading: Multiple methods with the same name but different parameters.\n",
        "2. Method Overriding: A subclass provides a different implementation of a method that's already defined in its superclass.\n",
        "3. Operator Overloading: Customizing the behavior of operators such as +, -, *, /, etc. for user-defined classes.\n",
        "4. Function Polymorphism: A function can take arguments of different types and behave differently depending on the type of argument.\n",
        "\n",
        "Q8. How is encapsulation achieved in Python?\n",
        "Answer> Encapsulation is achieved in Python by using classes and objects to bundle data and methods that operate on that data. Here are some ways to achieve encapsulation in Python:\n",
        "\n",
        "1. Using Classes and Objects: Classes are used to define the structure and behavior of an object. Objects are instances of classes and have their own set of attributes (data) and methods.\n",
        "\n",
        "2. Access Modifiers: Python doesn't have strict access modifiers like public, private, and protected. However, it uses a naming convention to indicate the intended access level:\n",
        "\n",
        "    - Public: Attributes and methods that are intended to be accessed directly are given public names (e.g., self.attribute).\n",
        "    - Private: Attributes and methods that are intended to be private are given names that start with a double underscore (e.g., self.__attribute). Python performs name mangling on these attributes, making them harder to access directly.\n",
        "    - Protected: Attributes and methods that are intended to be protected are given names that start with a single underscore (e.g., self._attribute). This is only a convention and doesn't prevent direct access.\n",
        "\n",
        "3. Properties: Python's @property decorator allows you to implement getters, setters, and deleters for attributes. This provides a way to control access to attributes and ensure that they are used correctly.\n",
        "\n",
        "4. Name Mangling: As mentioned earlier, Python performs name mangling on private attributes and methods. This makes it harder to access them directly from outside the class.\n",
        "\n",
        "Q9. What is a constructor in Python?\n",
        "Answer>In Python, a constructor is a special method that is automatically called when an object of a class is created. This method is used to initialize the attributes of the class and is typically used to set the initial state of the object.\n",
        "\n",
        "In Python, the constructor method is named __init__ (note the double underscores on either side of the name). This method is called when an object is created from the class, and it allows the class to initialize its attributes.\n",
        "\n",
        "Q10. What are class and static methods in Python?\n",
        "Answer> In Python, class methods and static methods are two types of methods that can be defined inside a class.\n",
        "\n",
        "Class Methods\n",
        "\n",
        "Class methods are methods that are bound to the class itself, rather than to an instance of the class. They are used to define methods that operate on the class level, rather than on the instance level.\n",
        "\n",
        "Class methods are defined using the @classmethod decorator, and they take the class itself as the first argument, typically referred to as cls.\n",
        "\n",
        "Static Methods\n",
        "\n",
        "Static methods are methods that are not bound to the class or instance, and do not take any implicit arguments. They are essentially just regular functions that happen to be defined inside a class.\n",
        "\n",
        "Static methods are defined using the @staticmethod decorator.\n",
        "\n",
        "Q11. What is method overloading in Python?\n",
        "Answer> Method overloading is a feature in some programming languages that allows multiple methods with the same name to be defined, but with different parameter lists. This means that a class can have multiple methods with the same name, but each method can have a different set of parameters.\n",
        "\n",
        "However, Python does not support method overloading in the classical sense. In Python, if you define multiple methods with the same name, the last definition will override all previous definitions.\n",
        "\n",
        "But, there are a few ways to achieve method overloading-like behavior in Python:\n",
        "\n",
        "1. Default arguments: You can define a method with default arguments, which can be used to simulate method overloading.\n",
        "\n",
        "\n",
        "class MyClass:\n",
        "    def my_method(self, arg1, arg2=None):\n",
        "        if arg2 is None:\n",
        "            print(\"One argument provided\")\n",
        "        else:\n",
        "            print(\"Two arguments provided\")\n",
        "\n",
        "obj = MyClass()\n",
        "obj.my_method(\"arg1\")  # Output: One argument provided\n",
        "obj.my_method(\"arg1\", \"arg2\")  # Output: Two arguments provided\n",
        "\n",
        "Q12. What is method overriding in OOP?\n",
        "Answer> Method overriding is a feature in object-oriented programming (OOP) that allows a subclass to provide a different implementation of a method that is already defined in its superclass. The method in the subclass has the same name, return type, and parameter list as the method in the superclass, but it can have a different implementation.\n",
        "\n",
        "Method overriding is used to:\n",
        "\n",
        "1. Specialize the behavior of a subclass: By overriding a method, a subclass can provide a specialized implementation that is specific to its needs.\n",
        "2. Extend the behavior of a superclass: A subclass can override a method to add new functionality or to modify the existing behavior.\n",
        "3. Change the behavior of a superclass: A subclass can override a method to change the way it behaves or to correct a bug in the superclass implementation.\n",
        "\n",
        "Q13. What is a property decorator in Python?\n",
        "Answer> In Python, the @property decorator is a built-in decorator that allows you to implement getters, setters, and deleters for instance attributes. It provides a way to customize access to instance attributes, making it easier to manage and validate data.\n",
        "\n",
        "Q14. Why is polymorphism important in OOP?\n",
        "\n",
        "Answer>Polymorphism is a fundamental concept in Object-Oriented Programming (OOP) that allows objects of different classes to be treated as objects of a common superclass. This is important for several reasons:\n",
        "\n",
        "1. Increased Flexibility\n",
        "Polymorphism enables you to write code that can work with different types of objects without knowing their specific class type. This makes your code more flexible and adaptable to changing requirements.\n",
        "\n",
        "2. Easier Maintenance\n",
        "With polymorphism, you can modify or extend the behavior of an object without affecting the code that uses it. This makes maintenance easier and reduces the risk of introducing bugs.\n",
        "\n",
        "3. Improved Code Reusability\n",
        "Polymorphism allows you to write code that can be reused with different types of objects. This reduces code duplication and makes your code more efficient.\n",
        "\n",
        "4. Enhanced Extensibility\n",
        "Polymorphism makes it easier to add new functionality to your code without modifying existing code. You can simply create a new subclass that inherits from the existing superclass and adds the new behavior.\n",
        "\n",
        "5. Better Error Handling\n",
        "Polymorphism enables you to handle errors and exceptions in a more elegant way. You can write code that can handle different types of errors and exceptions without knowing their specific type.\n",
        "\n",
        "6. More Realistic Modeling of Real-World Systems\n",
        "Polymorphism allows you to model real-world systems more accurately. In the real world, objects can have different behaviors and characteristics depending on their context and type.\n",
        "\n",
        "7. Simplified Code\n",
        "Polymorphism can simplify your code by reducing the need for explicit type checking and casting. This makes your code more readable and maintainable.\n",
        "\n",
        "Q15.What is an abstract class in Python?\n",
        "\n",
        "Answer> In Python, an abstract class is a class that cannot be instantiated on its own and is designed to be inherited by other classes. Abstract classes are used to define a blueprint for other classes to follow, and they can include both abstract methods (which must be implemented by any concrete subclass) and concrete methods (which can be used by any subclass).\n",
        "\n",
        "Here are the key characteristics of an abstract class in Python:\n",
        "\n",
        "1. Cannot be instantiated: You cannot create an instance of an abstract class directly.\n",
        "2. Designed for inheritance: Abstract classes are intended to be inherited by other classes, which must implement any abstract methods.\n",
        "3. Can include abstract methods: Abstract methods are declared but not implemented in the abstract class. They must be implemented by any concrete subclass.\n",
        "4. Can include concrete methods: Concrete methods are implemented in the abstract class and can be used by any subclass\n",
        "\n",
        "Q16. What are the advantages of OOP?\n",
        "\n",
        "Answer>Object-Oriented Programming (OOP) has several advantages that make it a popular and widely-used programming paradigm. Here are some of the main advantages of OOP:\n",
        "\n",
        "1. Modularity\n",
        "OOP allows for modular programming, where a program is broken down into smaller, independent modules (classes) that can be developed, tested, and maintained separately.\n",
        "\n",
        "2. Code Reusability\n",
        "OOP enables code reusability through inheritance, where a subclass can inherit the properties and behavior of a parent class, reducing code duplication.\n",
        "\n",
        "3. Abstraction\n",
        "OOP provides abstraction, which allows developers to focus on essential features of an object while hiding its internal implementation details.\n",
        "\n",
        "4. Encapsulation\n",
        "OOP promotes encapsulation, where data and methods are bundled together within a single unit (class), making it harder for other parts of the program to access or modify the data directly.\n",
        "\n",
        "5. Improved Readability and Maintainability\n",
        "OOP promotes self-documenting code, where classes and methods have descriptive names, making it easier for developers to understand the code and maintain it.\n",
        "\n",
        "6. Easier Troubleshooting\n",
        "OOP's modular and encapsulated nature makes it easier to identify and isolate bugs, reducing the time and effort required for troubleshooting.\n",
        "\n",
        "7. Better Organization\n",
        "OOP promotes a hierarchical organization of code, where classes are organized into a tree-like structure, making it easier to navigate and understand the codebase.\n",
        "\n",
        "8. Enhanced Security\n",
        "OOP's encapsulation and abstraction features help protect sensitive data and behavior from unauthorized access, enhancing the overall security of the program.\n",
        "\n",
        "9. Improved Scalability\n",
        "OOP's modular and reusable nature makes it easier to add new features and functionality to a program, reducing the complexity and effort required for scalability.\n",
        "\n",
        "10. Cross-Platform Compatibility\n",
        "OOP's platform-independent nature allows developers to write code that can be run on multiple platforms, including Windows, macOS, and Linux.\n",
        "\n",
        "Overall, OOP provides a powerful and flexible framework for building robust, maintainable, and scalable software systems.\n",
        "\n",
        "Q17. What is the difference between a class variable and an instance variable?\n",
        "\n",
        "Answer> In object-oriented programming (OOP), a class variable and an instance variable are two types of variables that are used to store data in a class.\n",
        "\n",
        "Class Variable:\n",
        "\n",
        "A class variable is a variable that is shared by all instances of a class. It is defined inside the class definition, but outside any instance method. Class variables are also known as static variables.\n",
        "\n",
        "Here are the key characteristics of a class variable:\n",
        "\n",
        "- Shared by all instances of the class\n",
        "- Defined inside the class definition, but outside any instance method\n",
        "- Can be accessed using the class name or an instance of the class\n",
        "- Only one copy of the variable exists, regardless of the number of instances created\n",
        "\n",
        "Instance Variable:\n",
        "\n",
        "An instance variable is a variable that is unique to each instance of a class. It is defined inside an instance method, typically in the __init__ method.\n",
        "\n",
        "Here are the key characteristics of an instance variable:\n",
        "\n",
        "- Unique to each instance of the class\n",
        "- Defined inside an instance method, typically in the __init__ method\n",
        "- Can only be accessed using an instance of the class\n",
        "- Each instance has its own copy of the variable\n",
        "\n",
        "Q18. What is multiple inheritance in Python?\n",
        "Answer> Multiple inheritance in Python is a feature that allows a class to inherit properties and behavior from more than one parent class. This means that a child class can inherit attributes and methods from multiple parent classes, allowing for greater flexibility and code reuse.\n",
        "\n",
        "Here's an example of multiple inheritance in Python:\n",
        "\n",
        "class Animal:\n",
        "    def eat(self):\n",
        "        print(\"Eating\")\n",
        "\n",
        "class Mammal:\n",
        "    def walk(self):\n",
        "        print(\"Walking\")\n",
        "\n",
        "class Dog(Animal, Mammal):\n",
        "    def bark(self):\n",
        "        print(\"Barking\")\n",
        "\n",
        "my_dog = Dog()\n",
        "my_dog.eat()  # Output: Eating\n",
        "my_dog.walk()  # Output: Walking\n",
        "my_dog.bark()  # Output: Barking\n",
        "\n",
        "In this example, the Dog class inherits from both the Animal and Mammal classes, allowing it to inherit the eat and walk methods from its parent classes.\n",
        "\n",
        "Multiple inheritance can be useful when you want to create a class that combines the properties and behavior of multiple parent classes. However, it can also lead to the \"diamond problem,\" which occurs when two parent classes have a common base class and the child class inherits conflicting attributes or methods from its parent classes.\n",
        "\n",
        "Q19. Explain the purpose of ‘’__str__’ and ‘__repr__’ ‘ methods in Python?\n",
        "\n",
        "Answer> In Python, the __str__ and __repr__ methods are special methods that are used to provide a string representation of an object. These methods are useful for debugging, logging, and displaying information about an object.\n",
        "\n",
        "__str__ method:\n",
        "\n",
        "The __str__ method is used to return a string that is a human-readable representation of the object. This method is called when you use the str() function or the print() function on an object.\n",
        "\n",
        "The purpose of the __str__ method is to provide a concise and informative string that summarizes the object's state. This string should be easy to read and understand, and it should provide enough information to identify the object and its key attributes.\n",
        "\n",
        "__repr__ method:\n",
        "\n",
        "The __repr__ method is used to return a string that is a more formal representation of the object. This method is called when you use the repr() function on an object.\n",
        "\n",
        "The purpose of the __repr__ method is to provide a string that is a valid Python expression, which can be used to recreate the object. This string should include all the necessary information to reconstruct the object, including its class, attributes, and values.\n",
        "\n",
        "Q20.What is the significance of the ‘super()’ function in Python?\n",
        "Answer> The super() function in Python is used to access the methods and properties of a parent class (also known as a superclass) from a child class (also known as a subclass). The significance of the super() function can be summarized as follows:\n",
        "\n",
        "Accessing Parent Class Methods\n",
        "The super() function allows a child class to call methods of its parent class. This is useful when a child class wants to build upon or modify the behavior of its parent class.\n",
        "\n",
        "Method Overriding\n",
        "When a child class overrides a method of its parent class, it can use the super() function to call the parent class's method from the child class's method.\n",
        "\n",
        "Method Extension\n",
        "The super() function enables a child class to extend the behavior of a parent class's method by calling the parent class's method and then adding additional behavior.\n",
        "\n",
        "Accessing Parent Class Attributes\n",
        "The super() function provides access to the attributes of a parent class, allowing a child class to access and modify them.\n",
        "\n",
        "Resolving Method Resolution Order (MRO) Conflicts\n",
        "In multiple inheritance scenarios, the super() function helps resolve MRO conflicts by ensuring that the correct method is called.\n",
        "\n",
        "Best Practices\n",
        "When using the super() function, it's essential to follow best practices:\n",
        "\n",
        "- Always use the super() function instead of hardcoding the parent class name.\n",
        "- Use the super() function to call methods of the parent class, rather than accessing them directly.\n",
        "- Avoid using the super() function to access attributes of the parent class; instead, use the self parameter to access attributes of the current class.\n",
        "\n",
        "Q21. What is the significance of the __del__ method in Python?\n",
        "\n",
        " Answer> The __del__ method in Python is a special method that is automatically called when an object is about to be destroyed. This method is also known as a destructor.\n",
        "\n",
        "The significance of the __del__ method is as follows:\n",
        "\n",
        "1. Resource deallocation: The __del__ method is used to release any system resources, such as file handles, network connections, or database connections, that were allocated by the object.\n",
        "2. Memory cleanup: The __del__ method is used to clean up any memory that was allocated by the object, such as dynamically allocated arrays or objects.\n",
        "3. Finalization: The __del__ method is used to perform any finalization tasks, such as logging, notification, or other cleanup tasks.\n",
        "4. Customization: The __del__ method can be customized to perform specific tasks that are required by the object.\n",
        "\n",
        "Q22. What is the difference between @staticmethod and @classmethod in Python?\n",
        "Answer> In Python, @staticmethod and @classmethod are two types of decorators that can be used to define methods within a class. While both decorators are used to create methods that can be called without creating an instance of the class, there are key differences between them.\n",
        "\n",
        "@staticmethod\n",
        "\n",
        "A @staticmethod is a method that belongs to a class, rather than an instance of the class. It can be called without creating an instance of the class, and it does not have access to the class's state (i.e., its attributes).\n",
        "\n",
        "Here's an example:\n",
        "\n",
        "class MathUtils:\n",
        "    @staticmethod\n",
        "    def add(x, y):\n",
        "        return x + y\n",
        "\n",
        "print(MathUtils.add(2, 3))  # Output: 5\n",
        "\n",
        "In this example, the add method is a static method that can be called without creating an instance of the MathUtils class.\n",
        "\n",
        "@classmethod\n",
        "\n",
        "A @classmethod is a method that belongs to a class, rather than an instance of the class. However, unlike a static method, a class method has access to the class's state (i.e., its attributes).\n",
        "\n",
        "A class method is typically used as an alternative constructor, or to create a method that can be used to modify the class's state.\n",
        "\n",
        "Here's an example:\n",
        "\n",
        "class Person:\n",
        "    population = 0\n",
        "\n",
        "    def __init__(self, name):\n",
        "        self.name = name\n",
        "        Person.population += 1\n",
        "\n",
        "    @classmethod\n",
        "    def get_population(cls):\n",
        "        return cls.population\n",
        "\n",
        "    @classmethod\n",
        "    def create_person(cls, name):\n",
        "        return cls(name)\n",
        "\n",
        "print(Person.get_population())  # Output: 0\n",
        "person = Person.create_person(\"John\")\n",
        "print(Person.get_population())  # Output: 1\n",
        "\n",
        "In this example, the get_population and create_person methods are class methods that have access to the population attribute of the Person class\n",
        "\n",
        "Q24. What is method chaining in Python OOP?\n",
        "Answer> Method chaining is a technique in Python Object-Oriented Programming (OOP) where multiple methods of an object are called in a single statement, with each method returning the object itself. This allows for a fluent and readable way of performing a series of operations on an object.\n",
        "The benefits of method chaining include:\n",
        "\n",
        "1. Improved readability: Method chaining allows for a more fluent and readable way of performing a series of operations on an object.\n",
        "2. Reduced code duplication: By returning the object itself, method chaining eliminates the need for temporary variables and reduces code duplication.\n",
        "3. Easier maintenance: Method chaining makes it easier to add or remove operations from the chain without affecting the surrounding code.\n",
        "\n",
        "Q25. What is the purpose of the __call__ method in Python?\n",
        "Answer> The __call__ method in Python is a special method that allows an instance of a class to be called as a function. This method is invoked when the instance is called with parentheses, like a function.\n",
        "\n",
        "The purpose of the __call__ method is to enable instances of a class to behave like functions. This can be useful in a variety of situations, such as:\n",
        "\n",
        "1. Creating function-like objects: By defining a __call__ method, you can create objects that can be used as functions, but also have additional attributes and methods.\n",
        "2. Implementing closures: The __call__ method can be used to implement closures, which are functions that have access to their own scope and can capture variables from that scope.\n",
        "3. Creating decorators: The __call__ method is often used in decorator classes to enable the decorator to be called as a function.\n",
        "4. Implementing functors: Functors are objects that can be used as functions, but also have additional attributes and methods. The __call__ method is used to implement functors in Python.\n",
        "\n",
        "\n"
      ],
      "metadata": {
        "id": "V5uMazODy-BT"
      }
    },
    {
      "cell_type": "markdown",
      "source": [
        "# Practical Questions"
      ],
      "metadata": {
        "id": "apmMwV2hP6c5"
      }
    },
    {
      "cell_type": "code",
      "source": [
        "#Q1. Create a parent class Animal with a method speak() that prints a generic message. Create a child class Dog that overrides the speak() method to print \"Bark!\".\n",
        "# Create another child class Cat that overrides the speak() method to print \"Meow!\".\n",
        "class Animal:\n",
        "    def speak(self):\n",
        "        print(\"Generic animal sound\")\n",
        "\n",
        "class Dog(Animal):\n",
        "    def speak(self):\n",
        "        print(\"Bark!\")\n",
        " # Creating an instance of Dog and calling the speak method\n",
        "dog = Dog()\n",
        "dog.speak()\n"
      ],
      "metadata": {
        "colab": {
          "base_uri": "https://localhost:8080/"
        },
        "id": "I8XaIeNtP0nA",
        "outputId": "dc7678b0-b48a-4193-b14d-5cb82972cd1c"
      },
      "execution_count": 5,
      "outputs": [
        {
          "output_type": "stream",
          "name": "stdout",
          "text": [
            "Bark!\n"
          ]
        }
      ]
    },
    {
      "cell_type": "code",
      "source": [
        "#Q2. Write a program to create an abstract class Shape with a method area(). Derive classes Circle and Rectangle from it and implement the area() method in both.\n",
        "from abc import ABC, abstractmethod\n",
        "import math\n",
        "\n",
        "# Abstract class\n",
        "class Shape(ABC):\n",
        "    @abstractmethod\n",
        "    def area(self):\n",
        "        pass\n",
        "\n",
        "# Circle class derived from Shape\n",
        "class Circle(Shape):\n",
        "    def __init__(self, radius):\n",
        "        self.radius = radius\n",
        "\n",
        "    def area(self):\n",
        "        return math.pi * (self.radius ** 2)\n",
        "\n",
        "# Rectangle class derived from Shape\n",
        "class Rectangle(Shape):\n",
        "    def __init__(self, length, width):\n",
        "        self.length = length\n",
        "        self.width = width\n",
        "\n",
        "    def area(self):\n",
        "        return self.length * self.width\n",
        "\n",
        "# Creating instances of Circle and Rectangle\n",
        "circle = Circle(5)\n",
        "rectangle = Rectangle(4, 6)\n",
        "\n",
        "# Calling the area method on both instances\n",
        "print(\"Area of Circle:\", circle.area())\n",
        "print(\"Area of Rectangle:\", rectangle.area())\n",
        "\n"
      ],
      "metadata": {
        "colab": {
          "base_uri": "https://localhost:8080/"
        },
        "id": "DIIyLL4NQplt",
        "outputId": "4a4e53ea-1af6-4073-fd80-9a9eca6b6520"
      },
      "execution_count": 8,
      "outputs": [
        {
          "output_type": "stream",
          "name": "stdout",
          "text": [
            "Area of Circle: 78.53981633974483\n",
            "Area of Rectangle: 24\n"
          ]
        }
      ]
    },
    {
      "cell_type": "code",
      "source": [
        "#Q3. Implement a multi-level inheritance scenario where a class Vehicle has an attribute type. Derive a class Car and further derive a class ElectricCar that adds a battery attribute.\n",
        "# Base class\n",
        "class Vehicle:\n",
        "    def __init__(self, type):\n",
        "        self.type = type\n",
        "\n",
        "    def display_type(self):\n",
        "        print(f\"Vehicle type: {self.type}\")\n",
        "\n",
        "# Derived class Car\n",
        "class Car(Vehicle):\n",
        "    def __init__(self, type, model):\n",
        "        # Calling the constructor of the parent class\n",
        "        super().__init__(type)\n",
        "        self.model = model\n",
        "\n",
        "    def display_model(self):\n",
        "        print(f\"Car model: {self.model}\")\n",
        "\n",
        "# Further derived class ElectricCar\n",
        "class ElectricCar(Car):\n",
        "    def __init__(self, type, model, battery):\n",
        "        # Calling the constructor of the parent class\n",
        "        super().__init__(type, model)\n",
        "        self.battery = battery\n",
        "\n",
        "    def display_battery(self):\n",
        "        print(f\"Battery capacity: {self.battery} kWh\")\n",
        "\n",
        "# Creating an instance of ElectricCar\n",
        "electric_car = ElectricCar(\"Electric Vehicle\", \"Tesla Model 3\", 75)\n",
        "\n",
        "# Displaying attributes using methods from each class\n",
        "electric_car.display_type()\n",
        "electric_car.display_model()\n",
        "electric_car.display_battery()\n"
      ],
      "metadata": {
        "colab": {
          "base_uri": "https://localhost:8080/"
        },
        "id": "xPcHiCiPUZTL",
        "outputId": "cf4cfc6e-7dd8-43d8-dc60-3fd3e7052061"
      },
      "execution_count": 9,
      "outputs": [
        {
          "output_type": "stream",
          "name": "stdout",
          "text": [
            "Vehicle type: Electric Vehicle\n",
            "Car model: Tesla Model 3\n",
            "Battery capacity: 75 kWh\n"
          ]
        }
      ]
    },
    {
      "cell_type": "code",
      "source": [
        "#Q4. Demonstrate polymorphism by creating a base class Bird with a method fly(). Create two derived classes Sparrow and Penguin that override the fly() method.\n",
        "# Base class\n",
        "class Bird:\n",
        "    def fly(self):\n",
        "        print(\"This bird can fly.\")\n",
        "\n",
        "# Derived class Sparrow\n",
        "class Sparrow(Bird):\n",
        "    def fly(self):\n",
        "        print(\"Sparrow flies high in the sky.\")\n",
        "\n",
        "# Derived class Penguin\n",
        "class Penguin(Bird):\n",
        "    def fly(self):\n",
        "        print(\"Penguins can't fly, they swim.\")\n",
        "\n",
        "# Creating instances of Sparrow and Penguin\n",
        "sparrow = Sparrow()\n",
        "penguin = Penguin()\n",
        "\n",
        "# Demonstrating polymorphism\n",
        "sparrow.fly()\n",
        "penguin.fly()\n",
        "\n",
        "\n"
      ],
      "metadata": {
        "colab": {
          "base_uri": "https://localhost:8080/"
        },
        "id": "RzXcLjXiXIgM",
        "outputId": "bc900e84-d4b3-439f-a5de-00678576c523"
      },
      "execution_count": 10,
      "outputs": [
        {
          "output_type": "stream",
          "name": "stdout",
          "text": [
            "Sparrow flies high in the sky.\n",
            "Penguins can't fly, they swim.\n"
          ]
        }
      ]
    },
    {
      "cell_type": "code",
      "source": [
        "#Q5. Write a program to demonstrate encapsulation by creating a class BankAccount with private attributes balance and methods to deposit, withdraw, and check balance.\n",
        "class BankAccount:\n",
        "    def __init__(self, initial_balance=0):\n",
        "        # Private attribute\n",
        "        self.__balance = initial_balance\n",
        "\n",
        "    # Method to deposit money\n",
        "    def deposit(self, amount):\n",
        "        if amount > 0:\n",
        "            self.__balance += amount\n",
        "            print(f\"Deposited: ${amount}\")\n",
        "        else:\n",
        "            print(\"Deposit amount must be positive.\")\n",
        "\n",
        "    # Method to withdraw money\n",
        "    def withdraw(self, amount):\n",
        "        if amount > 0 and amount <= self.__balance:\n",
        "            self.__balance -= amount\n",
        "            print(f\"Withdrew: ${amount}\")\n",
        "        else:\n",
        "            print(\"Invalid withdrawal amount or insufficient balance.\")\n",
        "\n",
        "    # Method to check the current balance\n",
        "    def get_balance(self):\n",
        "        return self.__balance\n",
        "\n",
        "\n",
        "# Create a BankAccount object\n",
        "account = BankAccount(1000)  # Starting with an initial balance of $1000\n",
        "\n",
        "# Perform some operations\n",
        "account.deposit(500)\n",
        "account.withdraw(200)\n",
        "account.withdraw(1500)\n",
        "\n",
        "# Check balance\n",
        "print(f\"Current balance: ${account.get_balance()}\")\n"
      ],
      "metadata": {
        "colab": {
          "base_uri": "https://localhost:8080/"
        },
        "id": "SZQ6kyaAXmlk",
        "outputId": "55e74237-e2b0-4843-ae51-49438f788437"
      },
      "execution_count": 12,
      "outputs": [
        {
          "output_type": "stream",
          "name": "stdout",
          "text": [
            "Deposited: $500\n",
            "Withdrew: $200\n",
            "Invalid withdrawal amount or insufficient balance.\n",
            "Current balance: $1300\n"
          ]
        }
      ]
    },
    {
      "cell_type": "code",
      "source": [
        "#Q6.Demonstrate runtime polymorphism using a method play() in a base class Instrument. Derive classes Guitar and Piano that implement their own version of play().\n",
        "# Base class\n",
        "class Instrument:\n",
        "    def play(self):\n",
        "        print(\"Playing an instrument\")\n",
        "\n",
        "# Derived class for Guitar\n",
        "class Guitar(Instrument):\n",
        "    def play(self):\n",
        "        print(\"Strumming the guitar\")\n",
        "\n",
        "# Derived class for Piano\n",
        "class Piano(Instrument):\n",
        "    def play(self):\n",
        "        print(\"Playing the piano\")\n",
        "\n",
        "# Function to demonstrate polymorphism\n",
        "def perform_instrument_play(instrument):\n",
        "    instrument.play()  # This will call the overridden play() method of the specific object\n",
        "\n",
        "# Creating objects of derived classes\n",
        "guitar = Guitar()\n",
        "piano = Piano()\n",
        "\n",
        "# Demonstrating runtime polymorphism\n",
        "print(\"Playing Guitar:\")\n",
        "perform_instrument_play(guitar)\n",
        "\n",
        "print(\"\\nPlaying Piano:\")\n",
        "perform_instrument_play(piano)\n"
      ],
      "metadata": {
        "colab": {
          "base_uri": "https://localhost:8080/"
        },
        "id": "j2GMbXKtYLV-",
        "outputId": "27e17eab-0102-4762-bcf8-79ee5a8d0cc2"
      },
      "execution_count": 13,
      "outputs": [
        {
          "output_type": "stream",
          "name": "stdout",
          "text": [
            "Playing Guitar:\n",
            "Strumming the guitar\n",
            "\n",
            "Playing Piano:\n",
            "Playing the piano\n"
          ]
        }
      ]
    },
    {
      "cell_type": "code",
      "source": [
        "#Q7. Create a class MathOperations with a class method add_numbers() to add two numbers and a static method subtract_numbers() to subtract two numbers.\n",
        "class MathOperations:\n",
        "    # Class method to add two numbers\n",
        "    @classmethod\n",
        "    def add_numbers(cls, num1, num2):\n",
        "        return num1 + num2\n",
        "\n",
        "    # Static method to subtract two numbers\n",
        "    @staticmethod\n",
        "    def subtract_numbers(num1, num2):\n",
        "        return num1 - num2\n",
        "\n",
        "# Demonstrating the use of class and static methods\n",
        "# Using the class method\n",
        "sum_result = MathOperations.add_numbers(10, 5)\n",
        "print(f\"Sum: {sum_result}\")\n",
        "\n",
        "# Using the static method\n",
        "difference_result = MathOperations.subtract_numbers(10, 5)\n",
        "print(f\"Difference: {difference_result}\")\n",
        "\n"
      ],
      "metadata": {
        "colab": {
          "base_uri": "https://localhost:8080/"
        },
        "id": "g5n4hTabYpo_",
        "outputId": "0cd3bbe6-7595-4474-be49-5a80638f657b"
      },
      "execution_count": 14,
      "outputs": [
        {
          "output_type": "stream",
          "name": "stdout",
          "text": [
            "Sum: 15\n",
            "Difference: 5\n"
          ]
        }
      ]
    },
    {
      "cell_type": "code",
      "source": [
        "#Q8. Implement a class Person with a class method to count the total number of persons created\n",
        "class Person:\n",
        "    # Class attribute to store the number of persons created\n",
        "    total_persons = 0\n",
        "\n",
        "    def __init__(self, name, age):\n",
        "        self.name = name\n",
        "        self.age = age\n",
        "        # Increment the total_persons every time a new Person object is created\n",
        "        Person.total_persons += 1\n",
        "\n",
        "    # Class method to get the total number of persons created\n",
        "    @classmethod\n",
        "    def get_total_persons(cls):\n",
        "        return cls.total_persons\n",
        "\n",
        "# Create some Person objects\n",
        "person1 = Person(\"Alice\", 30)\n",
        "person2 = Person(\"Bob\", 25)\n",
        "person3 = Person(\"Charlie\", 35)\n",
        "\n",
        "# Get the total number of persons created using the class method\n",
        "print(f\"Total persons created: {Person.get_total_persons()}\")\n"
      ],
      "metadata": {
        "colab": {
          "base_uri": "https://localhost:8080/"
        },
        "id": "fZkQyYSkY_mh",
        "outputId": "f82480e4-6f9f-42ce-bfa4-47d033be42fc"
      },
      "execution_count": 15,
      "outputs": [
        {
          "output_type": "stream",
          "name": "stdout",
          "text": [
            "Total persons created: 3\n"
          ]
        }
      ]
    },
    {
      "cell_type": "code",
      "source": [
        "#Q9. Write a class Fraction with attributes numerator and denominator. Override the str method to display the fraction as \"numerator/denominator\".\n",
        "class Fraction:\n",
        "    def __init__(self, numerator, denominator):\n",
        "        # Initialize the numerator and denominator\n",
        "        self.numerator = numerator\n",
        "        self.denominator = denominator\n",
        "\n",
        "    # Override the __str__() method to return the fraction in the form \"numerator/denominator\"\n",
        "    def __str__(self):\n",
        "        return f\"{self.numerator}/{self.denominator}\"\n",
        "\n",
        "# Create an instance of Fraction\n",
        "fraction1 = Fraction(3, 4)\n",
        "\n",
        "# Print the fraction using the overridden __str__() method\n",
        "print(fraction1)\n"
      ],
      "metadata": {
        "colab": {
          "base_uri": "https://localhost:8080/"
        },
        "id": "jElc_zxSZT9w",
        "outputId": "da9affd1-ec57-4de7-bd3d-b3a9cbe73813"
      },
      "execution_count": 16,
      "outputs": [
        {
          "output_type": "stream",
          "name": "stdout",
          "text": [
            "3/4\n"
          ]
        }
      ]
    },
    {
      "cell_type": "code",
      "source": [
        "#Q10. Demonstrate operator overloading by creating a class Vector and overriding the add method to add two vectors.\n",
        "class Vector:\n",
        "    def __init__(self, x, y):\n",
        "        # Initialize the x and y coordinates of the vector\n",
        "        self.x = x\n",
        "        self.y = y\n",
        "\n",
        "    # Overload the '+' operator using the __add__ method\n",
        "    def __add__(self, other):\n",
        "        # Ensure the other object is also a Vector\n",
        "        if isinstance(other, Vector):\n",
        "            return Vector(self.x + other.x, self.y + other.y)\n",
        "        else:\n",
        "            raise ValueError(\"Both operands must be instances of the Vector class\")\n",
        "\n",
        "    # For displaying the vector in a readable format\n",
        "    def __str__(self):\n",
        "        return f\"({self.x}, {self.y})\"\n",
        "\n",
        "# Create two Vector objects\n",
        "vector1 = Vector(2, 3)\n",
        "vector2 = Vector(4, 5)\n",
        "\n",
        "# Add the two vectors using the overloaded '+' operator\n",
        "result_vector = vector1 + vector2\n",
        "\n",
        "# Print the result\n",
        "print(f\"Vector 1: {vector1}\")\n",
        "print(f\"Vector 2: {vector2}\")\n",
        "print(f\"Result of addition: {result_vector}\")\n"
      ],
      "metadata": {
        "colab": {
          "base_uri": "https://localhost:8080/"
        },
        "id": "uThtfFDoaCoF",
        "outputId": "6be8cb21-fd34-49d3-eafc-420594281ff6"
      },
      "execution_count": 17,
      "outputs": [
        {
          "output_type": "stream",
          "name": "stdout",
          "text": [
            "Vector 1: (2, 3)\n",
            "Vector 2: (4, 5)\n",
            "Result of addition: (6, 8)\n"
          ]
        }
      ]
    },
    {
      "cell_type": "code",
      "source": [
        "#Q11. Create a class Person with attributes name and age. Add a method greet() that prints \"Hello, my name is {name} and I am {age} years old.\"\n",
        "class Person:\n",
        "    def __init__(self, name, age):\n",
        "        # Initialize the name and age attributes\n",
        "        self.name = name\n",
        "        self.age = age\n",
        "\n",
        "    # Method to print the greeting\n",
        "    def greet(self):\n",
        "        print(f\"Hello, my name is {self.name} and I am {self.age} years old.\")\n",
        "\n",
        "# Create a Person object\n",
        "person1 = Person(\"Alice\", 30)\n",
        "\n",
        "# Call the greet method\n",
        "person1.greet()\n"
      ],
      "metadata": {
        "colab": {
          "base_uri": "https://localhost:8080/"
        },
        "id": "arfIrm5EaTKa",
        "outputId": "6603b836-b110-40db-c39a-1f702c267a04"
      },
      "execution_count": 18,
      "outputs": [
        {
          "output_type": "stream",
          "name": "stdout",
          "text": [
            "Hello, my name is Alice and I am 30 years old.\n"
          ]
        }
      ]
    },
    {
      "cell_type": "code",
      "source": [
        "#Q12. Implement a class Student with attributes name and grades. Create a method average_grade() to compute the average of the grades.\n",
        "class Student:\n",
        "    def __init__(self, name, grades):\n",
        "        # Initialize the name and grades attributes\n",
        "        self.name = name\n",
        "        self.grades = grades\n",
        "\n",
        "    # Method to compute the average of grades\n",
        "    def average_grade(self):\n",
        "        if len(self.grades) == 0:\n",
        "            return 0  # To avoid division by zero if there are no grades\n",
        "        return sum(self.grades) / len(self.grades)\n",
        "\n",
        "# Create a Student object\n",
        "student1 = Student(\"Alice\", [85, 90, 78, 92])\n",
        "\n",
        "# Call the average_grade method\n",
        "average = student1.average_grade()\n",
        "\n",
        "# Print the result\n",
        "print(f\"{student1.name}'s average grade is: {average:.2f}\")\n"
      ],
      "metadata": {
        "colab": {
          "base_uri": "https://localhost:8080/"
        },
        "id": "92COE9jUati6",
        "outputId": "09abdba8-6829-4ba4-c12b-59376c002baf"
      },
      "execution_count": 19,
      "outputs": [
        {
          "output_type": "stream",
          "name": "stdout",
          "text": [
            "Alice's average grade is: 86.25\n"
          ]
        }
      ]
    },
    {
      "cell_type": "code",
      "source": [
        "#Q13. Create a class Rectangle with methods set_dimensions() to set the dimensions and area() to calculate the area.\n",
        "class Rectangle:\n",
        "    def __init__(self):\n",
        "        # Initialize the dimensions to zero\n",
        "        self.width = 0\n",
        "        self.height = 0\n",
        "\n",
        "    # Method to set the dimensions of the rectangle\n",
        "    def set_dimensions(self, width, height):\n",
        "        self.width = width\n",
        "        self.height = height\n",
        "\n",
        "    # Method to calculate the area of the rectangle\n",
        "    def area(self):\n",
        "        return self.width * self.height\n",
        "\n",
        "# Create a Rectangle object\n",
        "rectangle1 = Rectangle()\n",
        "\n",
        "# Set the dimensions for the rectangle\n",
        "rectangle1.set_dimensions(5, 10)\n",
        "\n",
        "# Calculate and print the area\n",
        "print(f\"The area of the rectangle is: {rectangle1.area()} square units\")\n"
      ],
      "metadata": {
        "colab": {
          "base_uri": "https://localhost:8080/"
        },
        "id": "umxIbd1YbEBp",
        "outputId": "6965cffe-394e-4c96-936c-a0b2d70d66b0"
      },
      "execution_count": 20,
      "outputs": [
        {
          "output_type": "stream",
          "name": "stdout",
          "text": [
            "The area of the rectangle is: 50 square units\n"
          ]
        }
      ]
    },
    {
      "cell_type": "code",
      "source": [
        "#Q14. Create a class Employee with a method calculate_salary() that computes the salary based on hours worked and hourly rate. Create a derived class Manager that adds a bonus to the salary.\n",
        "class Employee:\n",
        "    def __init__(self, name, hours_worked, hourly_rate):\n",
        "        # Initialize the employee with name, hours worked, and hourly rate\n",
        "        self.name = name\n",
        "        self.hours_worked = hours_worked\n",
        "        self.hourly_rate = hourly_rate\n",
        "\n",
        "    # Method to calculate the salary based on hours worked and hourly rate\n",
        "    def calculate_salary(self):\n",
        "        return self.hours_worked * self.hourly_rate\n",
        "\n",
        "class Manager(Employee):\n",
        "    def __init__(self, name, hours_worked, hourly_rate, bonus):\n",
        "        # Initialize Manager with the base class attributes and bonus\n",
        "        super().__init__(name, hours_worked, hourly_rate)\n",
        "        self.bonus = bonus\n",
        "\n",
        "    # Override the calculate_salary() method to include the bonus for the Manager\n",
        "    def calculate_salary(self):\n",
        "        base_salary = super().calculate_salary()  # Get the base salary from Employee class\n",
        "        return base_salary + self.bonus  # Add the bonus to the base salary\n",
        "\n",
        "# Create an Employee object\n",
        "employee1 = Employee(\"John\", 40, 20)  # 40 hours worked at $20 per hour\n",
        "salary_employee = employee1.calculate_salary()\n",
        "print(f\"{employee1.name}'s salary is: ${salary_employee}\")\n",
        "\n",
        "# Create a Manager object\n",
        "manager1 = Manager(\"Alice\", 40, 30, 500)  # 40 hours worked at $30 per hour with a $500 bonus\n",
        "salary_manager = manager1.calculate_salary()\n",
        "print(f\"{manager1.name}'s salary (with bonus) is: ${salary_manager}\")\n"
      ],
      "metadata": {
        "colab": {
          "base_uri": "https://localhost:8080/"
        },
        "id": "mKmEnkQFbVK3",
        "outputId": "96f3e7df-1421-4c09-ceac-9fdaa165c282"
      },
      "execution_count": 21,
      "outputs": [
        {
          "output_type": "stream",
          "name": "stdout",
          "text": [
            "John's salary is: $800\n",
            "Alice's salary (with bonus) is: $1700\n"
          ]
        }
      ]
    },
    {
      "cell_type": "code",
      "source": [
        "#Q15. Create a class Product with attributes name, price, and quantity. Implement a method total_price() that calculates the total price of the product.\n",
        "class Product:\n",
        "    def __init__(self, name, price, quantity):\n",
        "        # Initialize the product with name, price, and quantity\n",
        "        self.name = name\n",
        "        self.price = price\n",
        "        self.quantity = quantity\n",
        "\n",
        "    # Method to calculate the total price of the product\n",
        "    def total_price(self):\n",
        "        return self.price * self.quantity\n",
        "\n",
        "# Create a Product object\n",
        "product1 = Product(\"Laptop\", 1000, 3)\n",
        "\n",
        "# Calculate and print the total price\n",
        "print(f\"The total price of {product1.name} is: ${product1.total_price()}\")\n"
      ],
      "metadata": {
        "colab": {
          "base_uri": "https://localhost:8080/"
        },
        "id": "3WoYrGiXblqQ",
        "outputId": "149dfb3b-2d84-4801-985b-6aa1cab8407b"
      },
      "execution_count": 24,
      "outputs": [
        {
          "output_type": "stream",
          "name": "stdout",
          "text": [
            "The total price of Laptop is: $3000\n"
          ]
        }
      ]
    },
    {
      "cell_type": "code",
      "source": [
        "#Q16. Create a class Animal with an abstract method sound(). Create two derived classes Cow and Sheep that implement the sound() method.\n",
        "from abc import ABC, abstractmethod\n",
        "\n",
        "# Abstract base class Animal\n",
        "class Animal(ABC):\n",
        "\n",
        "    @abstractmethod\n",
        "    def sound(self):\n",
        "        pass\n",
        "\n",
        "# Derived class Cow\n",
        "class Cow(Animal):\n",
        "\n",
        "    def sound(self):\n",
        "        return \"Moo\"\n",
        "\n",
        "# Derived class Sheep\n",
        "class Sheep(Animal):\n",
        "\n",
        "    def sound(self):\n",
        "        return \"Baa\"\n",
        "\n",
        "# Create instances of Cow and Sheep\n",
        "cow = Cow()\n",
        "sheep = Sheep()\n",
        "\n",
        "# Call the sound() method for each animal\n",
        "print(f\"Cow sound: {cow.sound()}\")\n",
        "print(f\"Sheep sound: {sheep.sound()}\")\n"
      ],
      "metadata": {
        "colab": {
          "base_uri": "https://localhost:8080/"
        },
        "id": "q721T5svcCUZ",
        "outputId": "071af52d-29e7-40cd-a248-e4a8c8e471e6"
      },
      "execution_count": 26,
      "outputs": [
        {
          "output_type": "stream",
          "name": "stdout",
          "text": [
            "Cow sound: Moo\n",
            "Sheep sound: Baa\n"
          ]
        }
      ]
    },
    {
      "cell_type": "code",
      "source": [
        "#Q18. Create a class House with attributes address and price. Create a derived class Mansion that adds an attribute number_of_rooms.\n",
        "class House:\n",
        "    def __init__(self, address, price):\n",
        "        # Initialize address and price for the House\n",
        "        self.address = address\n",
        "        self.price = price\n",
        "\n",
        "    # Method to display house details\n",
        "    def display_info(self):\n",
        "        return f\"Address: {self.address}, Price: ${self.price}\"\n",
        "\n",
        "# Derived class Mansion\n",
        "class Mansion(House):\n",
        "    def __init__(self, address, price, number_of_rooms):\n",
        "        # Initialize the base class (House) and the new attribute number_of_rooms\n",
        "        super().__init__(address, price)\n",
        "        self.number_of_rooms = number_of_rooms\n",
        "\n",
        "    # Method to display mansion details, overriding display_info() if needed\n",
        "    def display_info(self):\n",
        "        base_info = super().display_info()  # Get the information from the House class\n",
        "        return f\"{base_info}, Number of Rooms: {self.number_of_rooms}\"\n",
        "\n",
        "# Create a House object\n",
        "house1 = House(\"123 Main St\", 250000)\n",
        "\n",
        "# Create a Mansion object\n",
        "mansion1 = Mansion(\"456 Luxury Blvd\", 5000000, 15)\n",
        "\n",
        "# Display information for both objects\n",
        "print(house1.display_info())\n",
        "print(mansion1.display_info())\n"
      ],
      "metadata": {
        "colab": {
          "base_uri": "https://localhost:8080/"
        },
        "id": "Tz6m2GQNcPK0",
        "outputId": "e185ba29-cd3f-454e-dd6f-bdbf19570bc3"
      },
      "execution_count": 27,
      "outputs": [
        {
          "output_type": "stream",
          "name": "stdout",
          "text": [
            "Address: 123 Main St, Price: $250000\n",
            "Address: 456 Luxury Blvd, Price: $5000000, Number of Rooms: 15\n"
          ]
        }
      ]
    },
    {
      "cell_type": "code",
      "source": [],
      "metadata": {
        "id": "qOpRQ2recsWH"
      },
      "execution_count": null,
      "outputs": []
    }
  ]
}